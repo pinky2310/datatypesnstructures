{
  "nbformat": 4,
  "nbformat_minor": 0,
  "metadata": {
    "colab": {
      "provenance": []
    },
    "kernelspec": {
      "name": "python3",
      "display_name": "Python 3"
    },
    "language_info": {
      "name": "python"
    }
  },
  "cells": [
    {
      "cell_type": "markdown",
      "source": [
        "#**DATA TYPES AND STRUCTURES ASSIGNMENT**"
      ],
      "metadata": {
        "id": "Rai5uZmQQalN"
      }
    },
    {
      "cell_type": "markdown",
      "source": [
        "##**THEORY QUESTIONS**"
      ],
      "metadata": {
        "id": "LDZc8L84Sh8x"
      }
    },
    {
      "cell_type": "markdown",
      "source": [
        "**1. What are data structures and why are they important?**\n",
        "- **Data structures** are organized ways to store and manage data efficiently.\n",
        "-  They help in **fast retrieval, optimized performance, and problem-solving** in software applications essential for **coding, AI, databases, and interviews**, they form the backbone of efficient algorithms.\n",
        "  "
      ],
      "metadata": {
        "id": "wOzz5Re8S0yq"
      }
    },
    {
      "cell_type": "markdown",
      "source": [
        "**2. Explain the difference between mutable and immutable data types with examples**\n",
        " -  **Mutable Data Types:**\n",
        "\n",
        "  - Mutable data types are those that can be changed or modified after they have been created.\n",
        "  - This means you can alter their content without creating a new object.\n",
        " - **Examples of Mutable Data Types**:\n",
        "\n",
        "**1.Lists:**\n",
        "You can add, remove, or change elements in a list.\n",
        "\n",
        "\n",
        "```\n",
        "my_list = [1, 2, 3]\n",
        "my_list.append(4)  # Now my_list is [1, 2, 3, 4]\n",
        "my_list[0] = 10    # Now my_list is [10, 2, 3, 4]\n",
        "```\n",
        "**2.Dictionaries:**\n",
        "You can add, remove, or change key-value pairs in a dictionary.\n",
        "\n",
        "\n",
        "```\n",
        "my_dict = {'a': 1, 'b': 2}\n",
        "my_dict['c'] = 3  # Now my_dict is {'a': 1, 'b': 2, 'c': 3}\n",
        "my_dict['a'] = 10 # Now my_dict is {'a': 10, 'b': 2, 'c': 3}\n",
        "```\n",
        "\n",
        "\n",
        "\n",
        "\n",
        "**3.Sets:** You can add or remove elements from a set.\n",
        "\n",
        "\n",
        "\n",
        "\n",
        "```\n",
        "my_set = {1, 2, 3}\n",
        "my_set.add(4)     # Now my_set is {1, 2, 3, 4}\n",
        "my_set.remove(2)  # Now my_set is {1, 3, 4}\n",
        "```\n",
        "- **Immutable Data Types**:\n",
        "  - Immutable data types, on the other hand, cannot be changed after they are created.\n",
        "  - If you want to modify an immutable object, you must create a new object with the desired changes.\n",
        "- **Examples of Immutable Data Types**:\n",
        "1.**Tuples**:\n",
        "Once a tuple is created, it' s elements cannot be changed.\n",
        "\n",
        "\n",
        "```\n",
        "my_tuple = (1, 2, 3)\n",
        "# my_tuple[0] = 10  # This will raise a TypeError\n",
        "new_tuple = my_tuple + (4,)  # Create a new tuple: (1, 2, 3, 4)\n",
        "```\n",
        "2.**Strings**:Strings cannot be modified in place. Any operation that seems to modify a string actually creates a new string.\n",
        "\n",
        "```\n",
        "my_string = \"hello\"\n",
        "new_string = my_string.replace(\"h\", \"j\")  # Creates a new string: \"jello\"\n",
        "# my_string is still \"hello\"\n",
        "```\n",
        "\n",
        "\n"
      ],
      "metadata": {
        "id": "Nb4DiHfOu3v1"
      }
    },
    {
      "cell_type": "markdown",
      "source": [
        "**3**.**What are the main differences between lists and tuples in Python?**\n",
        "- **Mutability**:\n",
        "\n",
        "**Lists**: Mutable (can be changed).\n",
        "**Tuples**: Immutable (cannot be changed).\n",
        "\n",
        "- **Syntax**:\n",
        "\n",
        "**Lists**: Defined with [ ].\n",
        "**Tuples**: Defined with ( ).\n",
        "- **Performance**:\n",
        "\n",
        "**Lists**: Slower, more memory overhead.\n",
        "**Tuples**: Faster, more memory efficient.\n",
        "- **Use Cases**:\n",
        "\n",
        "**Lists:** For collections that change.\n",
        "**Tuples**: For fixed collections.\n",
        "- **Methods**:\n",
        "\n",
        "**Lists**: Many methods (e.g., append(), remove()).\n",
        "**Tuples**: Few methods (count(), index()).\n",
        "- **Hashability**:\n",
        "\n",
        "**Lists**: Not hashable (cannot be dictionary keys).\n",
        "**Tuples**: Hashable (can be dictionary keys)."
      ],
      "metadata": {
        "id": "u6ubwhfA17Rt"
      }
    },
    {
      "cell_type": "markdown",
      "source": [
        "**4.Describe how dictionaries store data?**\n",
        " -  Dictionaries in Python are built-in data structures that store data in key-value pairs. Here’s a concise description of how they work:\n",
        "\n",
        " 1. **Key-Value Pairs**\n",
        "- Each entry in a dictionary consists of a **key** and a **value**. The key is a unique identifier for the value.\n",
        "- Example: In the dictionary `{'name': 'Alice', 'age': 30}`, `'name'` is the key, and `'Alice'` is the corresponding value.\n",
        "\n",
        " 2. **Hashing**\n",
        "- Keys in a dictionary are hashed to create a unique hash value. This hash value determines where the key-value pair is stored in memory.\n",
        "- Hashing allows for efficient data retrieval, as it enables quick access to values based on their keys.\n",
        "\n",
        " 3. **Dynamic Resizing**\n",
        "- Dictionaries are dynamic in size. When the number of entries exceeds a certain threshold, the dictionary automatically resizes to maintain performance.\n",
        "- This resizing involves creating a new, larger array and rehashing the existing keys to their new positions.\n",
        "\n",
        " 4. **Order of Elements**\n",
        "- As of Python 3.7, dictionaries maintain the insertion order of keys. This means that when you iterate over a dictionary, the items will be returned in the order they were added.\n",
        "\n",
        " 5. **Accessing Data**\n",
        "- You can access values in a dictionary using their keys. If the key exists, the corresponding value is returned; if not, a keyerror is raised.\n",
        "- Example: `my_dict['name']` would return `'Alice'`.\n",
        "\n",
        " 6. **Mutability**\n",
        "- Dictionaries are mutable.\n",
        "\n"
      ],
      "metadata": {
        "id": "tqYBWLSQ4kzX"
      }
    },
    {
      "cell_type": "markdown",
      "source": [
        "**5.** **Why might you use a set instead of a list in Python?**\n",
        "- 1. **Uniqueness**: Sets automatically enforce uniqueness; no duplicates allowed.\n",
        "\n",
        " 2. **Set Operations**: Support for union, intersection, and difference operations.\n",
        "\n",
        " 3. **No Order**: If order is not important, sets simplify code and improve performance.\n",
        " 4. **Automatic Duplicate Removal**: Converting a list to a set removes duplicates easily.\n",
        "\n",
        ""
      ],
      "metadata": {
        "id": "kpfkPGN-5oaS"
      }
    },
    {
      "cell_type": "markdown",
      "source": [
        "**6.What is a string in Python, and how is it different from a list?**\n",
        "  - A string in Python is a sequence of characters used to represent text data. Strings can be defined using single quotes ('), double quotes (\"), or triple quotes (''' or \"\"\") for multi-line strings. Strings are immutable, meaning that once a string is created, it cannot be changed or modified. Any operation that appears to modify a string actually creates a new string. Python provides a variety of built-in methods for string manipulation, such as upper( ), lower( ), replace( ), and split( ).\n",
        "  \n",
        "  On the other hand, A list in Python is a collection of items that can be of different data types, including integers, strings, and even other lists. Lists are defined using square brackets ([ ]) and are mutable, allowing for modifications such as adding, removing, or changing elements after the list is created. Lists support various methods for manipulation, such as append( ), remove( ), and sort( ). Unlike strings, lists maintain the order of their elements and can contain duplicates, making them versatile for storing and managing collections of data.\n",
        "\n",
        "\n",
        "\n",
        "\n"
      ],
      "metadata": {
        "id": "_W3qrRz78U7L"
      }
    },
    {
      "cell_type": "markdown",
      "source": [
        "**7.How do tuples ensure data integrity in Python?**\n",
        "  - Tuples ensure data integrity in Python through the following features:\n",
        "\n",
        "  1. **Immutability**: Contents cannot be changed after creation, preventing accidental modifications.\n",
        "  \n",
        "2. **Hashability**: Can be used as keys in dictionaries and elements in sets, maintaining uniqueness.\n",
        "\n",
        "3. **Fixed Structure**: Have a fixed size and order, reducing errors related to adding or removing elements.\n",
        "4.Tuples often group related data together, reinforcing the idea that the data should remain unchanged.\n"
      ],
      "metadata": {
        "id": "vYYs-Zbj9itR"
      }
    },
    {
      "cell_type": "markdown",
      "source": [
        "**8. What is a hash table, and how does it relate to dictionaries in Python?**\n",
        "  - Hash table is a data structure use to retrieve efficient data using key. It is based on the concept of hashing, hashing is function used to convert\n",
        " key into unique index corresponding to speacific location in a table.\n",
        "  \n",
        "  In Python, dictionaries are implemented as hash tables, where each key is hashed to determine its position in the array, allowing for fast access to values. Keys must be hashable (immutable) to ensure the integrity and efficiency of the hash table."
      ],
      "metadata": {
        "id": "O367R3LD-mNY"
      }
    },
    {
      "cell_type": "markdown",
      "source": [
        "**9. Can lists contain different data types in Python?**\n",
        "   - Yes, lists in Python can contain different data types. A single list can store a mix of integers, strings, floats, objects, and even other lists.\n",
        "\n",
        "```\n",
        "my_list = [1, \"hello\", 3.14, [2, 3], True]\n",
        "```\n",
        "\n"
      ],
      "metadata": {
        "id": "z_cbnVyl_7un"
      }
    },
    {
      "cell_type": "markdown",
      "source": [
        "**10. Explain why strings are immutable in Python.**\n",
        "   - Strings are immutable in Python because:\n",
        "\n",
        "1. **Performance Optimization**: Allows efficient memory usage and faster access.\n",
        "2. **Hashing**: Enables strings to be used as keys in dictionaries and elements in sets.\n",
        "3. **Safety**: Prevents accidental changes, ensuring data integrity.\n",
        "4. **Simplified Design**: Any modification creates a new string, avoiding side effects.\n",
        "\n"
      ],
      "metadata": {
        "id": "iFM1MnKLAUl7"
      }
    },
    {
      "cell_type": "markdown",
      "source": [
        "**11. What advantages do dictionaries offer over lists for certain tasks?**\n",
        "   - Dictionaries store data in the form of key-value pair.\n",
        "   -Use case is if we need emp_id corresponding to it's name then set emp_id as key and name as value.\n",
        "   -Used when faster lookups needed.\n",
        "   - Many data types stored in the form of key e.g:- int,float,bool\n",
        "   - Hashable data types can be store as values in dictionary\n",
        "It has better organization for complex data."
      ],
      "metadata": {
        "id": "lo8QgqliBDjB"
      }
    },
    {
      "cell_type": "markdown",
      "source": [
        "**12. Describe a scenario where using a tuple would be preferable over a list.**\n",
        "  - Lists defined using [ ] square brackets, Tuples defined using ( ) parenthesis.\n",
        "Tuples would be preferable when modification of data is not in need.\n",
        "\n",
        "For Example: if there's a roll number of students we know that roll numbers of students are fixed.\n",
        "Other examples : to store name,age,degree of an individual,class,deparmnets,enrollment number etc."
      ],
      "metadata": {
        "id": "CkVxGPudClwc"
      }
    },
    {
      "cell_type": "markdown",
      "source": [
        "**13. How do sets handle duplicate values in Python?**\n",
        "   - Sets handle duplicates by simply ensuring unique elements in the sets,it automatically handles duplicate values by only allowing unique elements. When you attempt to add a duplicate value to a set, it simply ignores the addition and maintains the existing unique elements.\n",
        "  "
      ],
      "metadata": {
        "id": "kajhjp7RDT2z"
      }
    },
    {
      "cell_type": "markdown",
      "source": [
        "**14.How does the “in” keyword work differently for lists and dictionaries?**\n",
        "  - In case of lists: The `in` keyword checks for the presence of a specific value within the list. It returns `True` if the value exists as an element in the list, and `False` otherwise.\n",
        "\n",
        "**Example:**\n",
        "```\n",
        "my_list = [1, 2, 3, 4]\n",
        "print(2 in my_list)  # Output: True\n",
        "print(5 in my_list)  # Output: False\n",
        "```\n",
        " - In case of dictionaries: The `in` keyword checks for the presence of a specific key in the dictionary. It returns `True` if the key exists, and `False` otherwise. It does not check for values.\n",
        "\n",
        "**Example:**\n",
        "```\n",
        "my_dict = {'a': 1, 'b': 2}\n",
        "print('a' in my_dict)  # Output: True\n",
        "print(1 in my_dict)     # Output: False (checks for key, not value)\n",
        "```\n",
        "\n"
      ],
      "metadata": {
        "id": "XJX0DkEAEKT5"
      }
    },
    {
      "cell_type": "markdown",
      "source": [
        "**15. Can you modify the elements of a tuple? Explain why or why not?**\n",
        "- No, the elements of a tuple cannot modify because tuples are immutable.\n",
        "- Reasons:\n",
        "\n",
        "1) Data Integrity: Prevents accidental modifications.\n",
        "\n",
        "2) Performance: Optimizes memory usage and access speed.\n",
        "\n",
        "3) Hashability: Allows tuples to be used as keys in dictionaries.\n"
      ],
      "metadata": {
        "id": "aCZDRLzzFtrY"
      }
    },
    {
      "cell_type": "markdown",
      "source": [
        "**16. What is a nested dictionary, and give an example of its use case?**\n",
        " - A nested dictionary is a dictionary that contains other dictionaries as its values.\n",
        "\n",
        "\n"
      ],
      "metadata": {
        "id": "mwN6x-teGo0l"
      }
    },
    {
      "cell_type": "code",
      "source": [
        "#use case:\n",
        "student = {\n",
        "    \"student_1\":\n",
        "    {\"name\":\"Pinky\",\"age\":20,\"grade\":\"A\"},\n",
        "    \"student_2\":\n",
        "    {\"name\":\"Monu\",\"age\":22,\"grade\":\"B\"}\n",
        "}\n",
        "print(student)"
      ],
      "metadata": {
        "colab": {
          "base_uri": "https://localhost:8080/"
        },
        "id": "Hlfb5hPQHlHi",
        "outputId": "ffc9cf49-84da-40e6-ae93-8279ad22590e"
      },
      "execution_count": 2,
      "outputs": [
        {
          "output_type": "stream",
          "name": "stdout",
          "text": [
            "{'student_1': {'name': 'Pinky', 'age': 20, 'grade': 'A'}, 'student_2': {'name': 'Monu', 'age': 22, 'grade': 'B'}}\n"
          ]
        }
      ]
    },
    {
      "cell_type": "markdown",
      "source": [
        "**17. Describe the time complexity of accessing elements in a dictionary.**\n",
        "- Accessing elements in a dictionary has an average time complexity of O(1) due to its underlying hash table implementation, allowing for constant-time lookups."
      ],
      "metadata": {
        "id": "qSzVLftRIOk4"
      }
    },
    {
      "cell_type": "markdown",
      "source": [
        "**18.  In what situations are lists preferred over dictionaries?**\n",
        " - When the order of elements is important,when storing a simple collection of items without key-value pairs, when you need to access elements by their position rather than by a key."
      ],
      "metadata": {
        "id": "Z8-FXnjHIVmk"
      }
    },
    {
      "cell_type": "markdown",
      "source": [
        "**19. Why are dictionaries considered unordered, and how does that affect data retrieval?**\n",
        "- Dictionaries are considered unordered because they do not maintain the order of elements based on insertion i.e., the order of keys is not guaranteed, which can affect data retrieval if the order is important. However, you can still access values efficiently using their keys."
      ],
      "metadata": {
        "id": "aTUWQoK9Itnn"
      }
    },
    {
      "cell_type": "markdown",
      "source": [
        "**20.  Explain the difference between a list and a dictionary in terms of data retrieval.**\n",
        "- List: Data is retrieved using an index (e.g., my_list[0]), which is position-based.\n",
        "- Dictionary: Data is retrieved using a key (e.g., my_dict['key']), which is key-based."
      ],
      "metadata": {
        "id": "ZtHKJckJJC6R"
      }
    },
    {
      "cell_type": "markdown",
      "source": [
        "##**PRACTICAL QUESTIONS**"
      ],
      "metadata": {
        "id": "sXUYwCf1JYgw"
      }
    },
    {
      "cell_type": "markdown",
      "source": [
        "**1. Write a code to create a string with your name and print it.**"
      ],
      "metadata": {
        "id": "o83K6yDUJpze"
      }
    },
    {
      "cell_type": "code",
      "source": [
        "name = \"pinky\"\n",
        "print(name)"
      ],
      "metadata": {
        "colab": {
          "base_uri": "https://localhost:8080/"
        },
        "id": "FJfKBCdWKBZk",
        "outputId": "c379c125-8dfa-4c62-b946-ee94d1791497"
      },
      "execution_count": 3,
      "outputs": [
        {
          "output_type": "stream",
          "name": "stdout",
          "text": [
            "pinky\n"
          ]
        }
      ]
    },
    {
      "cell_type": "markdown",
      "source": [
        "**2. Write a code to find the length of the string \"Hello World\".**"
      ],
      "metadata": {
        "id": "scdQNMxcKPMb"
      }
    },
    {
      "cell_type": "code",
      "source": [
        "len(\"Hello World\")"
      ],
      "metadata": {
        "colab": {
          "base_uri": "https://localhost:8080/"
        },
        "id": "7U2EDq6-KIaa",
        "outputId": "3fd28aab-1b0c-40b7-eb1a-223ff6f9089b"
      },
      "execution_count": 4,
      "outputs": [
        {
          "output_type": "execute_result",
          "data": {
            "text/plain": [
              "11"
            ]
          },
          "metadata": {},
          "execution_count": 4
        }
      ]
    },
    {
      "cell_type": "markdown",
      "source": [
        "**3. Write a code to slice the first 3 characters from the string \"Python Programming\".**"
      ],
      "metadata": {
        "id": "xWK9_A5vKVMF"
      }
    },
    {
      "cell_type": "code",
      "source": [
        "x = \"Python Programming\"\n",
        "x[:3]"
      ],
      "metadata": {
        "colab": {
          "base_uri": "https://localhost:8080/",
          "height": 36
        },
        "id": "yjx46jxwKeY0",
        "outputId": "02e09932-28ae-499a-d391-b04bac5b8576"
      },
      "execution_count": 5,
      "outputs": [
        {
          "output_type": "execute_result",
          "data": {
            "text/plain": [
              "'Pyt'"
            ],
            "application/vnd.google.colaboratory.intrinsic+json": {
              "type": "string"
            }
          },
          "metadata": {},
          "execution_count": 5
        }
      ]
    },
    {
      "cell_type": "markdown",
      "source": [
        "**4. Write a code to convert the string \"hello\" to uppercase.**"
      ],
      "metadata": {
        "id": "z4ew8JeLKoc9"
      }
    },
    {
      "cell_type": "code",
      "source": [
        "greeting = \"hello\"\n",
        "greeting.upper()"
      ],
      "metadata": {
        "colab": {
          "base_uri": "https://localhost:8080/",
          "height": 36
        },
        "id": "loaP1qgCKhb6",
        "outputId": "5842c63c-4e05-477a-e164-49daca9977f9"
      },
      "execution_count": 6,
      "outputs": [
        {
          "output_type": "execute_result",
          "data": {
            "text/plain": [
              "'HELLO'"
            ],
            "application/vnd.google.colaboratory.intrinsic+json": {
              "type": "string"
            }
          },
          "metadata": {},
          "execution_count": 6
        }
      ]
    },
    {
      "cell_type": "markdown",
      "source": [
        "**5. Write a code to replace the word \"apple\" with \"orange\" in the string \"I like apple\".**"
      ],
      "metadata": {
        "id": "LkKZKJmUK-xU"
      }
    },
    {
      "cell_type": "code",
      "source": [
        "s = \"I like apple\"\n",
        "s.replace('apple','orange')"
      ],
      "metadata": {
        "colab": {
          "base_uri": "https://localhost:8080/",
          "height": 36
        },
        "id": "J7ewoaAnK5tS",
        "outputId": "cd7bffea-4286-4fcf-c686-2d82a30c80db"
      },
      "execution_count": 7,
      "outputs": [
        {
          "output_type": "execute_result",
          "data": {
            "text/plain": [
              "'I like orange'"
            ],
            "application/vnd.google.colaboratory.intrinsic+json": {
              "type": "string"
            }
          },
          "metadata": {},
          "execution_count": 7
        }
      ]
    },
    {
      "cell_type": "markdown",
      "source": [
        "**6. Write a code to create a list with numbers 1 to 5 and print it.**"
      ],
      "metadata": {
        "id": "5MJ613fTLFZ8"
      }
    },
    {
      "cell_type": "code",
      "source": [
        "l = [1,2,3,4,5]\n",
        "for i in l:\n",
        "    print(i)"
      ],
      "metadata": {
        "colab": {
          "base_uri": "https://localhost:8080/"
        },
        "id": "J-b0O0naLDOQ",
        "outputId": "43666b2f-593c-4ae3-f5cd-e1d7ac477827"
      },
      "execution_count": 8,
      "outputs": [
        {
          "output_type": "stream",
          "name": "stdout",
          "text": [
            "1\n",
            "2\n",
            "3\n",
            "4\n",
            "5\n"
          ]
        }
      ]
    },
    {
      "cell_type": "markdown",
      "source": [
        "**7. Write a code to append the number 10 to the list [1, 2, 3, 4].**"
      ],
      "metadata": {
        "id": "PeKgQXULLO3H"
      }
    },
    {
      "cell_type": "code",
      "source": [
        "l1 = [1,2,3,4]\n",
        "l1.append(10)\n",
        "print(l1)"
      ],
      "metadata": {
        "colab": {
          "base_uri": "https://localhost:8080/"
        },
        "id": "sEFQdLCcLNW0",
        "outputId": "358e8623-e4c0-4622-cde2-64b32f22efb7"
      },
      "execution_count": 9,
      "outputs": [
        {
          "output_type": "stream",
          "name": "stdout",
          "text": [
            "[1, 2, 3, 4, 10]\n"
          ]
        }
      ]
    },
    {
      "cell_type": "markdown",
      "source": [
        "**8. Write a code to remove the number 3 from the list [1, 2, 3, 4, 5].**"
      ],
      "metadata": {
        "id": "OHY6UuCSLjRK"
      }
    },
    {
      "cell_type": "code",
      "source": [
        "l2 = [1,2,3,4,5]\n",
        "l2.remove(3)\n",
        "print(l2)"
      ],
      "metadata": {
        "colab": {
          "base_uri": "https://localhost:8080/"
        },
        "id": "MyMb75HQLc_g",
        "outputId": "e135fcb6-6287-4ae3-a882-59a03ec7dd6f"
      },
      "execution_count": 10,
      "outputs": [
        {
          "output_type": "stream",
          "name": "stdout",
          "text": [
            "[1, 2, 4, 5]\n"
          ]
        }
      ]
    },
    {
      "cell_type": "markdown",
      "source": [
        "**9. Write a code to access the second element in the list ['a', 'b', 'c', 'd'].**"
      ],
      "metadata": {
        "id": "SVrKrE9AL1Ed"
      }
    },
    {
      "cell_type": "code",
      "source": [
        "l3 = ['a', 'b', 'c', 'd']\n",
        "l3[1]"
      ],
      "metadata": {
        "colab": {
          "base_uri": "https://localhost:8080/",
          "height": 36
        },
        "id": "AWfh7lRkLvuH",
        "outputId": "416c3d56-516f-4011-d4f1-5f0fd0a0f886"
      },
      "execution_count": 11,
      "outputs": [
        {
          "output_type": "execute_result",
          "data": {
            "text/plain": [
              "'b'"
            ],
            "application/vnd.google.colaboratory.intrinsic+json": {
              "type": "string"
            }
          },
          "metadata": {},
          "execution_count": 11
        }
      ]
    },
    {
      "cell_type": "markdown",
      "source": [
        "**10. Write a code to reverse the list [10, 20, 30, 40, 50].**"
      ],
      "metadata": {
        "id": "hiXTUqBJMV5o"
      }
    },
    {
      "cell_type": "code",
      "source": [
        "my_list = [10, 20, 30, 40, 50]\n",
        "my_list.reverse()\n",
        "print(my_list)"
      ],
      "metadata": {
        "colab": {
          "base_uri": "https://localhost:8080/"
        },
        "id": "VvTwGb0uL6Um",
        "outputId": "3ca92298-1684-4eb9-ae3c-1ee8e64fda0c"
      },
      "execution_count": 12,
      "outputs": [
        {
          "output_type": "stream",
          "name": "stdout",
          "text": [
            "[50, 40, 30, 20, 10]\n"
          ]
        }
      ]
    },
    {
      "cell_type": "markdown",
      "source": [
        "**11. Write a code to create a tuple with the elements 10, 20, 30 and print it.**"
      ],
      "metadata": {
        "id": "9v3WCPwJM8KM"
      }
    },
    {
      "cell_type": "code",
      "source": [
        "my_tuple = (100, 200, 300)\n",
        "print(my_tuple)"
      ],
      "metadata": {
        "colab": {
          "base_uri": "https://localhost:8080/"
        },
        "id": "Yjjz8kXBMiV8",
        "outputId": "cc28029c-7614-4bc2-84b8-3054f97d4981"
      },
      "execution_count": 13,
      "outputs": [
        {
          "output_type": "stream",
          "name": "stdout",
          "text": [
            "(100, 200, 300)\n"
          ]
        }
      ]
    },
    {
      "cell_type": "markdown",
      "source": [
        "**12. Access the second-to-last element of the tuple ('red', 'green', 'blue', 'yellow')**"
      ],
      "metadata": {
        "id": "UFKP5_5iN-Wt"
      }
    },
    {
      "cell_type": "code",
      "source": [
        "t1= ('red', 'green', 'blue', 'yellow')\n",
        "t2=t1[-2]\n",
        "print(t2)"
      ],
      "metadata": {
        "colab": {
          "base_uri": "https://localhost:8080/"
        },
        "id": "6Js41ZXXN71M",
        "outputId": "b08397cd-1bdb-4ecd-baf8-f364e332c60a"
      },
      "execution_count": 14,
      "outputs": [
        {
          "output_type": "stream",
          "name": "stdout",
          "text": [
            "blue\n"
          ]
        }
      ]
    },
    {
      "cell_type": "markdown",
      "source": [
        "**13. Find the minimum number in the tuple (10, 20, 5, 15)**"
      ],
      "metadata": {
        "id": "L0fvv4YPOxkL"
      }
    },
    {
      "cell_type": "code",
      "source": [
        "t3= (10, 20, 5, 15)\n",
        "min_value = min(t3)\n",
        "print(min_value)"
      ],
      "metadata": {
        "colab": {
          "base_uri": "https://localhost:8080/"
        },
        "id": "N1igUm9dOp9B",
        "outputId": "6b6b11cb-bbff-44f5-fd98-ef0c2f74ef92"
      },
      "execution_count": 20,
      "outputs": [
        {
          "output_type": "stream",
          "name": "stdout",
          "text": [
            "5\n"
          ]
        }
      ]
    },
    {
      "cell_type": "markdown",
      "source": [
        "**14. Find the index of the element \"cat\" in the tuple ('dog', 'cat', 'rabbit')**"
      ],
      "metadata": {
        "id": "XUvnnlXfQTGa"
      }
    },
    {
      "cell_type": "code",
      "source": [
        "t4 = ('dog', 'cat', 'rabbit')\n",
        "index_of_cat = t4.index('cat')\n",
        "print(index_of_cat)"
      ],
      "metadata": {
        "colab": {
          "base_uri": "https://localhost:8080/"
        },
        "id": "hr_SzKIcPEFp",
        "outputId": "f0cd8d80-77c5-4003-c937-7cbbade12ae6"
      },
      "execution_count": 21,
      "outputs": [
        {
          "output_type": "stream",
          "name": "stdout",
          "text": [
            "1\n"
          ]
        }
      ]
    },
    {
      "cell_type": "markdown",
      "source": [
        "**15. Create a tuple containing three different fruits and check if \"kiwi\" is in it.**"
      ],
      "metadata": {
        "id": "XXR5NJAJQtos"
      }
    },
    {
      "cell_type": "code",
      "source": [
        "fruits = ('apple', 'banana', 'orange')\n",
        "contains_kiwi = 'kiwi' in fruits\n",
        "print(contains_kiwi)"
      ],
      "metadata": {
        "colab": {
          "base_uri": "https://localhost:8080/"
        },
        "id": "SMNrB06-Qqpv",
        "outputId": "1589c902-a19f-40d0-e33c-8e726d1c05b1"
      },
      "execution_count": 22,
      "outputs": [
        {
          "output_type": "stream",
          "name": "stdout",
          "text": [
            "False\n"
          ]
        }
      ]
    },
    {
      "cell_type": "markdown",
      "source": [
        "**16. Create a set with the elements 'a', 'b', 'c' and print it.**\n"
      ],
      "metadata": {
        "id": "lSNaUCQYRddu"
      }
    },
    {
      "cell_type": "code",
      "source": [
        "my_set = {'a', 'b', 'c'}\n",
        "print(my_set)"
      ],
      "metadata": {
        "colab": {
          "base_uri": "https://localhost:8080/"
        },
        "id": "K3NT1jGGRLzU",
        "outputId": "75b99695-efad-4b61-8060-0fa6276efe0d"
      },
      "execution_count": 23,
      "outputs": [
        {
          "output_type": "stream",
          "name": "stdout",
          "text": [
            "{'c', 'b', 'a'}\n"
          ]
        }
      ]
    },
    {
      "cell_type": "markdown",
      "source": [
        "**17. Clear all elements from the set {1, 2, 3, 4, 5}.**"
      ],
      "metadata": {
        "id": "4Xsif0m5SOaR"
      }
    },
    {
      "cell_type": "code",
      "source": [
        "set1= {1, 2, 3, 4, 5}\n",
        "set1.clear()\n",
        "print(set1)"
      ],
      "metadata": {
        "colab": {
          "base_uri": "https://localhost:8080/"
        },
        "id": "OgZ6vvF-SHpK",
        "outputId": "1330a6bf-ac2e-443f-b73a-884ffe0a4787"
      },
      "execution_count": 24,
      "outputs": [
        {
          "output_type": "stream",
          "name": "stdout",
          "text": [
            "set()\n"
          ]
        }
      ]
    },
    {
      "cell_type": "markdown",
      "source": [
        "**18. Remove the element 4 from the set {1, 2, 3, 4}.**\n",
        "\n"
      ],
      "metadata": {
        "id": "-CoWKzvXSiWZ"
      }
    },
    {
      "cell_type": "code",
      "source": [
        "s1 = {1, 2, 3, 4}\n",
        "s1.remove(4)\n",
        "print(s1)"
      ],
      "metadata": {
        "colab": {
          "base_uri": "https://localhost:8080/"
        },
        "id": "kzCH4AkXSgMq",
        "outputId": "a2630e40-0488-4650-e1f5-6e5279d7e45c"
      },
      "execution_count": 25,
      "outputs": [
        {
          "output_type": "stream",
          "name": "stdout",
          "text": [
            "{1, 2, 3}\n"
          ]
        }
      ]
    },
    {
      "cell_type": "markdown",
      "source": [
        "**19. Find the union of two sets {1, 2, 3} and {3, 4, 5}.**\n",
        "\n",
        "\n"
      ],
      "metadata": {
        "id": "Dxj1vcwNTyaV"
      }
    },
    {
      "cell_type": "code",
      "source": [
        "set1 = {1, 2, 3}\n",
        "set2 = {3, 4, 5}\n",
        "union_set = set1.union(set2)\n",
        "print(union_set)"
      ],
      "metadata": {
        "colab": {
          "base_uri": "https://localhost:8080/"
        },
        "id": "8OoMIt_FTsnO",
        "outputId": "203eae28-0902-4658-9e1f-eef1ccb92a2e"
      },
      "execution_count": 26,
      "outputs": [
        {
          "output_type": "stream",
          "name": "stdout",
          "text": [
            "{1, 2, 3, 4, 5}\n"
          ]
        }
      ]
    },
    {
      "cell_type": "markdown",
      "source": [
        "**20. Find the intersection of two sets {1, 2, 3} and {2, 3, 4}.**"
      ],
      "metadata": {
        "id": "G7rcnNcPUFsF"
      }
    },
    {
      "cell_type": "code",
      "source": [
        "set1 = {1, 2, 3}\n",
        "set2 = {2, 3, 4}\n",
        "intersection_set = set1.intersection(set2)\n",
        "print(intersection_set)"
      ],
      "metadata": {
        "colab": {
          "base_uri": "https://localhost:8080/"
        },
        "id": "Sis-is55T_pG",
        "outputId": "07484eb9-3323-40ba-9536-7d2e0e9d217c"
      },
      "execution_count": 27,
      "outputs": [
        {
          "output_type": "stream",
          "name": "stdout",
          "text": [
            "{2, 3}\n"
          ]
        }
      ]
    },
    {
      "cell_type": "markdown",
      "source": [
        "**21. Create a dictionary with the keys \"name\", \"age\", and \"city\", and print it**"
      ],
      "metadata": {
        "id": "7EstavEMUVRI"
      }
    },
    {
      "cell_type": "code",
      "source": [
        "my_dict = {\"name\": \"pinky\", \"age\": 20, \"city\": \"Bangalore\"}\n",
        "print(my_dict)"
      ],
      "metadata": {
        "colab": {
          "base_uri": "https://localhost:8080/"
        },
        "id": "OzbVsf1lULiQ",
        "outputId": "457af69e-34b1-44c1-88dd-5415df65e2b4"
      },
      "execution_count": 28,
      "outputs": [
        {
          "output_type": "stream",
          "name": "stdout",
          "text": [
            "{'name': 'pinky', 'age': 20, 'city': 'Bangalore'}\n"
          ]
        }
      ]
    },
    {
      "cell_type": "markdown",
      "source": [
        "**22. Add a new key-value pair \"country\": \"USA\" to the dictionary {'name': 'John', 'age': 25}.**"
      ],
      "metadata": {
        "id": "mLze1u9HVfxa"
      }
    },
    {
      "cell_type": "code",
      "source": [
        "my_dict = {'name': 'John', 'age': 25}\n",
        "my_dict[\"country\"] = \"USA\"\n",
        "print(my_dict)"
      ],
      "metadata": {
        "colab": {
          "base_uri": "https://localhost:8080/"
        },
        "id": "Xo2fuBB4VSCv",
        "outputId": "c106b793-78ef-4621-fe29-6bf2b2a415e9"
      },
      "execution_count": 31,
      "outputs": [
        {
          "output_type": "stream",
          "name": "stdout",
          "text": [
            "{'name': 'John', 'age': 25, 'country': 'USA'}\n"
          ]
        }
      ]
    },
    {
      "cell_type": "markdown",
      "source": [
        "**23. Access the value associated with the key \"name\" in the dictionary {'name': 'Alice', 'age': 30}**"
      ],
      "metadata": {
        "id": "NGRBNAgWV3tC"
      }
    },
    {
      "cell_type": "code",
      "source": [
        "my_dict = {'name': 'Alice', 'age': 30}\n",
        "name_value = my_dict['name']\n",
        "print(name_value)"
      ],
      "metadata": {
        "colab": {
          "base_uri": "https://localhost:8080/"
        },
        "id": "sIGZ8dbfVoM8",
        "outputId": "e8920897-4d61-4711-cae2-806c84605fe9"
      },
      "execution_count": 32,
      "outputs": [
        {
          "output_type": "stream",
          "name": "stdout",
          "text": [
            "Alice\n"
          ]
        }
      ]
    },
    {
      "cell_type": "markdown",
      "source": [
        "**24. Remove the key \"age\" from the dictionary {'name': 'Bob', 'age': 22, 'city': 'New York'}**"
      ],
      "metadata": {
        "id": "712hk2HtWH9B"
      }
    },
    {
      "cell_type": "code",
      "source": [
        "my_dict = {'name': 'Bob', 'age': 22, 'city': 'New York'}\n",
        "del my_dict['age']\n",
        "print(my_dict)"
      ],
      "metadata": {
        "colab": {
          "base_uri": "https://localhost:8080/"
        },
        "id": "O3t9IJEcWDSd",
        "outputId": "31fa7ccc-f2c6-463e-aff6-165420efbb24"
      },
      "execution_count": 34,
      "outputs": [
        {
          "output_type": "stream",
          "name": "stdout",
          "text": [
            "{'name': 'Bob', 'city': 'New York'}\n"
          ]
        }
      ]
    },
    {
      "cell_type": "markdown",
      "source": [
        "**25. Check if the key \"city\" exists in the dictionary {'name': 'Alice', 'city': 'Paris'}**"
      ],
      "metadata": {
        "id": "BCch-fQWWUxy"
      }
    },
    {
      "cell_type": "code",
      "source": [
        "my_dict = {'name': 'Alice', 'city': 'Paris'}\n",
        "key_exists = 'city' in my_dict\n",
        "print(key_exists)"
      ],
      "metadata": {
        "colab": {
          "base_uri": "https://localhost:8080/"
        },
        "id": "wDbo209VWSNe",
        "outputId": "792a86ec-cd35-4fcc-aaef-c7e4607f2472"
      },
      "execution_count": 36,
      "outputs": [
        {
          "output_type": "stream",
          "name": "stdout",
          "text": [
            "True\n"
          ]
        }
      ]
    },
    {
      "cell_type": "markdown",
      "source": [
        "**26. Create a list, a tuple, and a dictionary, and print them all.**"
      ],
      "metadata": {
        "id": "H2GUNcXCWtPu"
      }
    },
    {
      "cell_type": "code",
      "source": [
        "my_list = [1, 2, 3]\n",
        "my_tuple = (4, 5, 6)\n",
        "my_dict = {'a': 7, 'b': 8}\n",
        "\n",
        "print(my_list)\n",
        "print(my_tuple)\n",
        "print(my_dict)"
      ],
      "metadata": {
        "colab": {
          "base_uri": "https://localhost:8080/"
        },
        "id": "Sy1fL_K8WkWN",
        "outputId": "d9aebc6f-f999-498e-db9d-f5017a21a95c"
      },
      "execution_count": 37,
      "outputs": [
        {
          "output_type": "stream",
          "name": "stdout",
          "text": [
            "[1, 2, 3]\n",
            "(4, 5, 6)\n",
            "{'a': 7, 'b': 8}\n"
          ]
        }
      ]
    },
    {
      "cell_type": "markdown",
      "source": [
        "**27. Create a list of 5 random numbers between 1 and 100, sort it in ascending order, and print the result.**\n",
        "\n"
      ],
      "metadata": {
        "id": "74BTmaf_W5vd"
      }
    },
    {
      "cell_type": "code",
      "source": [
        "import random\n",
        "\n",
        "random_numbers = random.sample(range(1, 101), 5)  # Generate 5 unique random numbers\n",
        "random_numbers.sort()  # Sort the list in ascending order\n",
        "print(random_numbers)"
      ],
      "metadata": {
        "colab": {
          "base_uri": "https://localhost:8080/"
        },
        "id": "FtN54xRVW4l4",
        "outputId": "2255c5be-f419-47da-bedc-e790f949bcd8"
      },
      "execution_count": 38,
      "outputs": [
        {
          "output_type": "stream",
          "name": "stdout",
          "text": [
            "[28, 56, 64, 67, 100]\n"
          ]
        }
      ]
    },
    {
      "cell_type": "markdown",
      "source": [
        "**28. Create a list with strings and print the element at the third index.**"
      ],
      "metadata": {
        "id": "-38V04IsXVof"
      }
    },
    {
      "cell_type": "code",
      "source": [
        "list1 = ['apple', 'banana', 'cherry', 'date', 'elderberry']\n",
        "third_index_element = list1[3]\n",
        "print(third_index_element)"
      ],
      "metadata": {
        "colab": {
          "base_uri": "https://localhost:8080/"
        },
        "id": "eIOmgpxQXOd6",
        "outputId": "4d339e41-ad5a-4363-87fa-d61b34353c90"
      },
      "execution_count": 39,
      "outputs": [
        {
          "output_type": "stream",
          "name": "stdout",
          "text": [
            "date\n"
          ]
        }
      ]
    },
    {
      "cell_type": "markdown",
      "source": [
        "**29. Combine two dictionaries into one and print the result.**"
      ],
      "metadata": {
        "id": "Tx3yd7cDYBng"
      }
    },
    {
      "cell_type": "code",
      "source": [
        "dict1 = {'name': 'Alice', 'age': 30}\n",
        "dict2 = {'city': 'Paris', 'country': 'France'}\n",
        "combined_dict = {**dict1, **dict2}\n",
        "print(combined_dict)"
      ],
      "metadata": {
        "colab": {
          "base_uri": "https://localhost:8080/"
        },
        "id": "OdEje_9sX-5n",
        "outputId": "472a3d62-cd23-412a-d9a3-605584cf357d"
      },
      "execution_count": 42,
      "outputs": [
        {
          "output_type": "stream",
          "name": "stdout",
          "text": [
            "{'name': 'Alice', 'age': 30, 'city': 'Paris', 'country': 'France'}\n"
          ]
        }
      ]
    },
    {
      "cell_type": "markdown",
      "source": [
        "**30. Convert a list of strings into a set.**"
      ],
      "metadata": {
        "id": "OD5u64hOY7ew"
      }
    },
    {
      "cell_type": "code",
      "source": [
        "string_list = ['apple', 'banana', 'apple', 'orange']\n",
        "string_set = set(string_list)\n",
        "print(string_set)"
      ],
      "metadata": {
        "colab": {
          "base_uri": "https://localhost:8080/"
        },
        "id": "pP0zh6vyYoH0",
        "outputId": "262698dd-6994-4253-b85f-e3f74d3f8fce"
      },
      "execution_count": 43,
      "outputs": [
        {
          "output_type": "stream",
          "name": "stdout",
          "text": [
            "{'apple', 'orange', 'banana'}\n"
          ]
        }
      ]
    },
    {
      "cell_type": "code",
      "source": [],
      "metadata": {
        "id": "Fftsoxp1ZJvJ"
      },
      "execution_count": null,
      "outputs": []
    }
  ]
}